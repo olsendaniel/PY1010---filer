{
 "cells": [
  {
   "cell_type": "markdown",
   "id": "61473e3a",
   "metadata": {},
   "source": [
    "# Arbeidskrav 1"
   ]
  },
  {
   "cell_type": "markdown",
   "id": "9158d19e",
   "metadata": {},
   "source": [
    "### To do\n",
    "\n",
    "- Årlig totalkostnad: elbil + bensin\n",
    "- Årlig kostnadsdifferanse"
   ]
  },
  {
   "cell_type": "code",
   "execution_count": null,
   "id": "cd3b7708",
   "metadata": {},
   "outputs": [],
   "source": [
    "aarlig_distanse = 10000\n",
    "\n",
    "forsikring_el = 5000 # i kroner\n",
    "forsikring_bensin = 7500 # i kroner\n",
    "\n",
    "forsikring_trafikk = 8.38*365 # i kroner\n",
    "\n",
    "forbruk_strom = 0.2 # kWh/km\n",
    "strompris = 2 # kr/kWh\n",
    "\n",
    "kostnad_strom = forbruk_strom * strompris\n",
    "\n",
    "bensin = 1 # kr/km\n",
    "\n",
    "bom_elbil = 0.1 # kr/km\n",
    "bom_bensin = 0.3 # kr/km\n"
   ]
  },
  {
   "cell_type": "code",
   "execution_count": 15,
   "id": "819e52f0",
   "metadata": {},
   "outputs": [],
   "source": [
    "# Kostnader for elbil\n",
    "\n",
    "faste_kostnader_elbil = forsikring_el + forsikring_trafikk\n",
    "variable_kostnader_elbil = aarlig_distanse * (kostnad_strom + bom_elbil)"
   ]
  },
  {
   "cell_type": "code",
   "execution_count": 16,
   "id": "ea5d1b3a",
   "metadata": {},
   "outputs": [],
   "source": [
    "# Kostnader for bensinbil\n",
    "\n",
    "faste_kostnader_bensin = forsikring_bensin + forsikring_trafikk\n",
    "variable_kostnader_bensin = aarlig_distanse * (bensin + bom_bensin)"
   ]
  },
  {
   "cell_type": "code",
   "execution_count": 17,
   "id": "8105bc6f",
   "metadata": {},
   "outputs": [],
   "source": [
    "# Total årlig kostnad for elbil og bensinbil\n",
    "\n",
    "aarlig_totkost_elbil = faste_kostnader_elbil + variable_kostnader_elbil     # årlig totalkostna for elbil\n",
    "aarlig_totkost_bensin = faste_kostnader_bensin + variable_kostnader_bensin  # årlig totalkostna for bensin"
   ]
  },
  {
   "cell_type": "code",
   "execution_count": 18,
   "id": "cbba4530",
   "metadata": {},
   "outputs": [
    {
     "name": "stdout",
     "output_type": "stream",
     "text": [
      "Årlig kostnad for elbil er:  13058.7 kr\n",
      "Årlig kostnad for bensinbil er:  23558.7 kr\n"
     ]
    }
   ],
   "source": [
    "print(\"Årlig kostnad for elbil er: \", aarlig_totkost_elbil,\"kr\")\n",
    "print(\"Årlig kostnad for bensinbil er: \", aarlig_totkost_bensin,\"kr\")"
   ]
  },
  {
   "cell_type": "markdown",
   "id": "8089416c",
   "metadata": {},
   "source": [
    "### Årlig kostnadsdifferanse"
   ]
  },
  {
   "cell_type": "code",
   "execution_count": 19,
   "id": "f7d0fc2c",
   "metadata": {},
   "outputs": [],
   "source": [
    "aarlig_diff = aarlig_totkost_bensin - aarlig_totkost_elbil"
   ]
  },
  {
   "cell_type": "code",
   "execution_count": 20,
   "id": "ceef385c",
   "metadata": {},
   "outputs": [
    {
     "name": "stdout",
     "output_type": "stream",
     "text": [
      "Den årlige differansen mellom elbil og bensinbil ved å kjøre 10000 er: 10500.0\n"
     ]
    }
   ],
   "source": [
    "print(\"Den årlige differansen mellom elbil og bensinbil ved å kjøre\", aarlig_distanse, \"er:\", aarlig_diff)"
   ]
  }
 ],
 "metadata": {
  "kernelspec": {
   "display_name": ".venv",
   "language": "python",
   "name": "python3"
  },
  "language_info": {
   "codemirror_mode": {
    "name": "ipython",
    "version": 3
   },
   "file_extension": ".py",
   "mimetype": "text/x-python",
   "name": "python",
   "nbconvert_exporter": "python",
   "pygments_lexer": "ipython3",
   "version": "3.13.4"
  }
 },
 "nbformat": 4,
 "nbformat_minor": 5
}
